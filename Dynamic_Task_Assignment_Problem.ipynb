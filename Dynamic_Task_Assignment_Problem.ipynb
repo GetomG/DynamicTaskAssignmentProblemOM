{
  "metadata": {
    "kernelspec": {
      "language": "python",
      "display_name": "Python 3",
      "name": "python3"
    },
    "language_info": {
      "name": "python",
      "version": "3.10.12",
      "mimetype": "text/x-python",
      "codemirror_mode": {
        "name": "ipython",
        "version": 3
      },
      "pygments_lexer": "ipython3",
      "nbconvert_exporter": "python",
      "file_extension": ".py"
    },
    "kaggle": {
      "accelerator": "none",
      "dataSources": [],
      "dockerImageVersionId": 30626,
      "isInternetEnabled": true,
      "language": "python",
      "sourceType": "notebook",
      "isGpuEnabled": false
    },
    "colab": {
      "name": "Dynamic Task Assignment Problem",
      "provenance": []
    }
  },
  "nbformat_minor": 0,
  "nbformat": 4,
  "cells": [
    {
      "cell_type": "markdown",
      "source": [
        "# Mathematical Formulation and Implementation of Dynamic Task Assignment Problem in 10 Minute School\n",
        "Code and definition of a dynamic task assignment problem (Mathematical Formulation and Implementation of Dynamic Task Assignment Problem in 10 Minute School) for Operations Management Lab.\n",
        "\n",
        "# **Problem Description:**\n",
        "An experienced operations manager is responsible for assigning tasks to a team of six workers (workers 1 to 6) to maximize the output level. Each day, he receives a list of tasks with various characteristics, including task type, count, priority, urgency, time requirement, and quality scores of workers for each task type. The goal is to efficiently assign these tasks to workers while considering their availability, task counts, and the importance of the tasks."
      ],
      "metadata": {
        "id": "kWVX7ygXwcfe"
      }
    },
    {
      "cell_type": "markdown",
      "source": [
        "Details can be found here: [**GitHub**](https://github.com/azminewasi/DynamicTaskAssignmentProblemOM)"
      ],
      "metadata": {
        "id": "fg6ta2O3wcff"
      }
    },
    {
      "cell_type": "markdown",
      "source": [
        "# **Mathematical Formulation:**\n",
        "\n",
        "## **Indices:**\n",
        "- $i$: Index for workers, $i \\in \\{1, 2, 3, 4, 5, 6\\}$.\n",
        "- $j$: Index for tasks, $j \\in \\{1, 2, \\ldots, N\\}$, where $N$ is the total number of tasks.\n",
        "\n",
        "## **Parameters:**\n",
        "- $T_j$: Task type of task $j$.\n",
        "- $C_j$: Count of task $j$.\n",
        "- $P_j$: Priority of task $j$.\n",
        "- $U_j$: Urgency of task $j$.\n",
        "- $Q_{ij}$: Quality score of worker $i$ for task type $T_j$.\n",
        "- $R_j$: Time requirement for task $j$.\n",
        "- $H_i$: Available working hours per worker $i$.\n",
        "\n",
        "## **Variables:**\n",
        "- $X_{ij}$: Binary decision variable indicating whether task $j$ is assigned to worker $i$.\n",
        "\n",
        "## **Objective Function:**\n",
        "The objective is to maximize the total output level, which is calculated as the sum of quality scores for each assigned task, weighted by its priority and urgency. The higher the quality score, priority, and urgency, the more critical the task, and it contributes more to the total output level.\n",
        "\n",
        "\n",
        "$\\text{Maximize: } \\sum_{i=1}^{6} \\sum_{j=1}^{N} X_{ij} \\cdot Q_{ij} \\cdot P_j \\cdot U_j$\n",
        "\n",
        "\n",
        "This objective function reflects the primary goal of maximizing the overall performance by efficiently assigning tasks to workers based on their quality scores and task characteristics.\n",
        "\n",
        "## **Constraints:**\n",
        "\n",
        "1. **Task Assignment Constraint:**\n",
        "Each task $j$ can be assigned at most once. This constraint ensures that a task is either assigned to a worker or left unassigned.\n",
        "\n",
        "$\\sum_{i=1}^{6} X_{ij} \\leq 1 \\quad \\forall j \\in \\{1, 2, \\ldots, N\\}$\n",
        "\n",
        "2. **Worker Availability Constraint:**\n",
        "Each worker $i$ can work at most $H_i$ hours per day. This constraint ensures that workers do not exceed their available working hours.\n",
        "\n",
        "$\\sum_{j=1}^{N} X_{ij} \\cdot R_j \\leq H_i \\quad \\forall i \\in \\{1, 2, 3, 4, 5, 6\\}$\n",
        "\n",
        "3. Task Count Constraint:**\n",
        "Ensure that the total assigned count of each task $j$ matches its given count. This constraint ensures that the assigned task count matches the provided task count for each task type.\n",
        "\n",
        "$\\sum_{i=1}^{6} X_{ij} \\cdot C_j = C_j \\quad \\forall j \\in \\{1, 2, \\ldots, N\\}$\n",
        "\n",
        "**Binary Variable:**\n",
        "\n",
        "The decision variable $X_{ij}$ is binary and takes a value of 1 if task $j$ is assigned to worker $i$ and 0 if it is not assigned.\n"
      ],
      "metadata": {
        "id": "rp6Pi_5Ewcff"
      }
    },
    {
      "cell_type": "markdown",
      "source": [
        "# **Explanation:**\n",
        "This mathematical formulation addresses the operational challenge of assigning tasks to workers to maximize productivity. The objective function seeks to maximize the output level, which is a combination of the quality scores, task priorities, and urgencies. By optimizing these factors, you can ensure that the most important and time-critical tasks are assigned to the most skilled workers.\n",
        "The constraints ensure that tasks are not over-allocated, workers do not exceed their working hours, and the assigned task counts match the given counts. This formulation strikes a balance between productivity and resource constraints.\n",
        "Solving this optimization problem will lead to task assignments that achieve the highest possible output level, ultimately improving the operational efficiency of your team."
      ],
      "metadata": {
        "id": "h6ItMvtTwcfg"
      }
    },
    {
      "cell_type": "markdown",
      "source": [
        "# 1. Import Modules"
      ],
      "metadata": {
        "id": "1vBBNsX7wcfg"
      }
    },
    {
      "cell_type": "code",
      "source": [
        "import pandas as pd\n",
        "from io import StringIO"
      ],
      "metadata": {
        "execution": {
          "iopub.status.busy": "2023-12-31T07:43:57.865771Z",
          "iopub.execute_input": "2023-12-31T07:43:57.866242Z",
          "iopub.status.idle": "2023-12-31T07:43:58.352682Z",
          "shell.execute_reply.started": "2023-12-31T07:43:57.866201Z",
          "shell.execute_reply": "2023-12-31T07:43:58.351532Z"
        },
        "trusted": true,
        "id": "2TKS-keuwcfg"
      },
      "execution_count": null,
      "outputs": []
    },
    {
      "cell_type": "markdown",
      "source": [
        "# 2. Define Inputs"
      ],
      "metadata": {
        "id": "qwG-_ocewcfh"
      }
    },
    {
      "cell_type": "code",
      "source": [
        "# Define task time requirements\n",
        "task_time_requirements = {\n",
        "    1: 4,\n",
        "    2: 6,\n",
        "    3: 1,\n",
        "    4: 5,\n",
        "    5: 2,\n",
        "    6: 3\n",
        "}"
      ],
      "metadata": {
        "execution": {
          "iopub.status.busy": "2023-12-31T07:45:09.486097Z",
          "iopub.execute_input": "2023-12-31T07:45:09.486653Z",
          "iopub.status.idle": "2023-12-31T07:45:09.49265Z",
          "shell.execute_reply.started": "2023-12-31T07:45:09.486618Z",
          "shell.execute_reply": "2023-12-31T07:45:09.491114Z"
        },
        "trusted": true,
        "id": "stfcaX-Uwcfh"
      },
      "execution_count": null,
      "outputs": []
    },
    {
      "cell_type": "code",
      "source": [
        "# Define the quality scores for each worker and task type\n",
        "data = \"\"\"\n",
        "task,worker1,worker2,worker3,worker4,worker5,worker6\n",
        "task1,5,3,1,2,3,4\n",
        "task2,5,3,2,2,1,2\n",
        "task3,1,3,5,5,3,4\n",
        "task4,3,3,2,2,3,3\n",
        "task5,1,3,1,4,4,4\n",
        "task6,1,1,5,5,2,1\n",
        "\"\"\"\n",
        "\n",
        "# Create a DataFrame\n",
        "quality_df = pd.read_csv(StringIO(data))\n",
        "quality_df = quality_df.drop(columns='task')\n",
        "\n",
        "quality_df"
      ],
      "metadata": {
        "execution": {
          "iopub.status.busy": "2023-12-31T07:45:11.136545Z",
          "iopub.execute_input": "2023-12-31T07:45:11.136962Z",
          "iopub.status.idle": "2023-12-31T07:45:11.177997Z",
          "shell.execute_reply.started": "2023-12-31T07:45:11.136929Z",
          "shell.execute_reply": "2023-12-31T07:45:11.176916Z"
        },
        "trusted": true,
        "id": "R3qK3Pexwcfh"
      },
      "execution_count": null,
      "outputs": []
    },
    {
      "cell_type": "code",
      "source": [
        "# Define available working hours per worker\n",
        "available_hours_per_worker = 8"
      ],
      "metadata": {
        "execution": {
          "iopub.status.busy": "2023-12-31T07:46:21.894024Z",
          "iopub.execute_input": "2023-12-31T07:46:21.894977Z",
          "iopub.status.idle": "2023-12-31T07:46:21.899343Z",
          "shell.execute_reply.started": "2023-12-31T07:46:21.894934Z",
          "shell.execute_reply": "2023-12-31T07:46:21.898524Z"
        },
        "trusted": true,
        "id": "_RnDFrVAwcfh"
      },
      "execution_count": null,
      "outputs": []
    },
    {
      "cell_type": "code",
      "source": [
        "# Define the list of tasks with their counts, priorities, and urgencies\n",
        "# With columns - task_no,task_type,count,priority,urgency\n",
        "\n",
        "data = \"\"\"\n",
        "task_no,task_type,count,priority,urgency\n",
        "1,3,9,2,5\n",
        "2,1,2,1,3\n",
        "3,5,4,2,4\n",
        "4,5,3,4,2\n",
        "5,1,5,5,3\n",
        "6,4,6,3,1\n",
        "7,4,4,3,5\n",
        "\"\"\"\n",
        "\n",
        "# Create a DataFrame\n",
        "tasks_df  = pd.read_csv(StringIO(data))\n",
        "tasks_df"
      ],
      "metadata": {
        "execution": {
          "iopub.status.busy": "2023-12-31T07:46:22.67073Z",
          "iopub.execute_input": "2023-12-31T07:46:22.671354Z",
          "iopub.status.idle": "2023-12-31T07:46:22.685619Z",
          "shell.execute_reply.started": "2023-12-31T07:46:22.67132Z",
          "shell.execute_reply": "2023-12-31T07:46:22.684332Z"
        },
        "trusted": true,
        "id": "O9crneIBwcfh"
      },
      "execution_count": null,
      "outputs": []
    },
    {
      "cell_type": "markdown",
      "source": [
        "# 3. Assignment Algoprithm"
      ],
      "metadata": {
        "id": "7tnSX3kbwcfh"
      }
    },
    {
      "cell_type": "code",
      "source": [
        "# Initialize a dictionary to track assigned tasks and free time per worker\n",
        "assigned_tasks = {worker: [] for worker in quality_df.columns}\n",
        "free_time_per_worker = {worker: available_hours_per_worker for worker in quality_df.columns}\n",
        "\n",
        "# Sort tasks by priority (descending), urgency (descending), and time requirement (ascending)\n",
        "tasks_df = tasks_df.sort_values(by=[\"priority\", \"urgency\", \"task_type\"], ascending=[False, False, True])\n",
        "\n",
        "# Create a dictionary to keep track of task counts for each unique combination of task type, priority, and urgency\n",
        "given_task_counts = {}\n"
      ],
      "metadata": {
        "execution": {
          "iopub.status.busy": "2023-12-31T07:47:28.30952Z",
          "iopub.execute_input": "2023-12-31T07:47:28.309912Z",
          "iopub.status.idle": "2023-12-31T07:47:28.325936Z",
          "shell.execute_reply.started": "2023-12-31T07:47:28.309882Z",
          "shell.execute_reply": "2023-12-31T07:47:28.324627Z"
        },
        "trusted": true,
        "id": "xnEsU82Bwcfh"
      },
      "execution_count": null,
      "outputs": []
    },
    {
      "cell_type": "code",
      "source": [
        "\n",
        "# Loop through tasks and assign them to workers to maximize output level\n",
        "for _, row in tasks_df.iterrows():\n",
        "    task_type = row[\"task_type\"]\n",
        "    task_no = row[\"task_no\"]\n",
        "    priority = row[\"priority\"]\n",
        "    urgency = row[\"urgency\"]\n",
        "\n",
        "    # Check if the task type, priority, and urgency combination is in the given_task_counts dictionary\n",
        "    key = (task_type, priority, urgency)\n",
        "    if key in given_task_counts:\n",
        "        count = given_task_counts[key]\n",
        "    else:\n",
        "        count = row[\"count\"]\n",
        "        given_task_counts[key] = count\n",
        "\n",
        "    time_required = task_time_requirements[task_type]\n",
        "\n",
        "    # Sort workers by quality score for the given task type\n",
        "    sorted_workers = quality_df.columns.to_list()\n",
        "    sorted_workers.sort(key=lambda worker: -quality_df.at[task_type, worker])\n",
        "\n",
        "    # Try to assign the task to available workers\n",
        "    for worker in sorted_workers:\n",
        "        for worker in sorted_workers:\n",
        "            if count > 0 and free_time_per_worker[worker] >= time_required:\n",
        "                assigned_tasks[worker].append((task_no, task_type, time_required, priority, urgency))\n",
        "                free_time_per_worker[worker] -= time_required\n",
        "                count -= 1\n"
      ],
      "metadata": {
        "execution": {
          "iopub.status.busy": "2023-12-31T07:47:30.886851Z",
          "iopub.execute_input": "2023-12-31T07:47:30.887243Z",
          "iopub.status.idle": "2023-12-31T07:47:30.89872Z",
          "shell.execute_reply.started": "2023-12-31T07:47:30.887214Z",
          "shell.execute_reply": "2023-12-31T07:47:30.897446Z"
        },
        "trusted": true,
        "id": "n1pUcBZOwcfh"
      },
      "execution_count": null,
      "outputs": []
    },
    {
      "cell_type": "code",
      "source": [
        "\n",
        "# Calculate the total output level\n",
        "total_output_level = 0\n",
        "for worker, tasks in assigned_tasks.items():\n",
        "    for task_no, task_type, time_required, priority, urgency in tasks:\n",
        "        quality_score = quality_df.at[task_type, worker]\n",
        "        output_level = quality_score * 1 * urgency * priority\n",
        "        total_output_level += output_level\n"
      ],
      "metadata": {
        "execution": {
          "iopub.status.busy": "2023-12-31T07:47:32.413603Z",
          "iopub.execute_input": "2023-12-31T07:47:32.414038Z",
          "iopub.status.idle": "2023-12-31T07:47:32.420616Z",
          "shell.execute_reply.started": "2023-12-31T07:47:32.414004Z",
          "shell.execute_reply": "2023-12-31T07:47:32.419467Z"
        },
        "trusted": true,
        "id": "-A-_cJISwcfh"
      },
      "execution_count": null,
      "outputs": []
    },
    {
      "cell_type": "code",
      "source": [
        "printed_lines=[]\n",
        "# Print the assigned tasks and free time per worker\n",
        "print(\"Assigned Tasks:\")\n",
        "for worker, tasks in assigned_tasks.items():\n",
        "    if tasks:\n",
        "        for task_no, task_type, time_required, priority, urgency in tasks:\n",
        "            task_count = assigned_tasks[worker].count((task_no, task_type, time_required, priority, urgency))\n",
        "            line = f\"Worker {worker[-1]} - Task No: {task_no}, Task Type: {task_type}, Assigned: {task_count} - Time Required: {task_count * task_time_requirements[task_type]}\"\n",
        "            if line not in printed_lines:\n",
        "                print(line)\n",
        "                printed_lines.append(line)"
      ],
      "metadata": {
        "execution": {
          "iopub.status.busy": "2023-12-31T07:49:30.140283Z",
          "iopub.execute_input": "2023-12-31T07:49:30.140741Z",
          "iopub.status.idle": "2023-12-31T07:49:30.149301Z",
          "shell.execute_reply.started": "2023-12-31T07:49:30.140706Z",
          "shell.execute_reply": "2023-12-31T07:49:30.14814Z"
        },
        "trusted": true,
        "id": "r9mcVynMwcfh"
      },
      "execution_count": null,
      "outputs": []
    },
    {
      "cell_type": "code",
      "source": [
        "print(\"\\nFree Time per Worker:\")\n",
        "for worker, time in free_time_per_worker.items():\n",
        "    print(worker, \":\", time)"
      ],
      "metadata": {
        "execution": {
          "iopub.status.busy": "2023-12-31T07:49:35.43795Z",
          "iopub.execute_input": "2023-12-31T07:49:35.438339Z",
          "iopub.status.idle": "2023-12-31T07:49:35.444399Z",
          "shell.execute_reply.started": "2023-12-31T07:49:35.438308Z",
          "shell.execute_reply": "2023-12-31T07:49:35.443163Z"
        },
        "trusted": true,
        "id": "4S4CPfLGwcfi"
      },
      "execution_count": null,
      "outputs": []
    },
    {
      "cell_type": "code",
      "source": [
        "print(\"\\nTotal Output Level:\", total_output_level)"
      ],
      "metadata": {
        "execution": {
          "iopub.status.busy": "2023-12-31T07:49:39.164276Z",
          "iopub.execute_input": "2023-12-31T07:49:39.164657Z",
          "iopub.status.idle": "2023-12-31T07:49:39.170404Z",
          "shell.execute_reply.started": "2023-12-31T07:49:39.164628Z",
          "shell.execute_reply": "2023-12-31T07:49:39.169296Z"
        },
        "trusted": true,
        "id": "J-tn1keWwcfi"
      },
      "execution_count": null,
      "outputs": []
    },
    {
      "cell_type": "markdown",
      "source": [
        "## 3.1. Unassigned Tasks"
      ],
      "metadata": {
        "id": "sfsqc4owwcfi"
      }
    },
    {
      "cell_type": "code",
      "source": [
        "assigned_tasks_all = [item for sublist in assigned_tasks.values() for item in sublist]\n",
        "\n",
        "# Calculate and print unassigned tasks\n",
        "unassigned_tasks = []\n",
        "for _, row in tasks_df.iterrows():\n",
        "    task_no = row[\"task_no\"]\n",
        "    task_type = row[\"task_type\"]\n",
        "    priority = row[\"priority\"]\n",
        "    urgency = row[\"urgency\"]\n",
        "    given_count = given_task_counts[(task_type, priority, urgency)]\n",
        "    assigned_count = sum(1 for (tn, _, _, p, u) in assigned_tasks_all if tn == task_no)\n",
        "    unassigned_count = given_count - assigned_count\n",
        "    unassigned_tasks.append((task_no,task_type, priority, urgency, given_count, assigned_count, unassigned_count))\n",
        "\n",
        "sorted_unassigned_tasks = sorted(unassigned_tasks, key=lambda x: x[0])\n",
        "print(\"\\nUnassigned Tasks:\")\n",
        "for task_no,task_type, priority, urgency, given, assigned, unassigned in sorted_unassigned_tasks:\n",
        "    print(f\"Task No: {task_no}, Task Type: {task_type}, Priority: {priority}, Urgency: {urgency}, Given: {given}, Assigned: {assigned}, Unassigned: {unassigned}\")"
      ],
      "metadata": {
        "execution": {
          "iopub.status.busy": "2023-12-31T07:49:45.087498Z",
          "iopub.execute_input": "2023-12-31T07:49:45.087917Z",
          "iopub.status.idle": "2023-12-31T07:49:45.100629Z",
          "shell.execute_reply.started": "2023-12-31T07:49:45.087883Z",
          "shell.execute_reply": "2023-12-31T07:49:45.099057Z"
        },
        "trusted": true,
        "id": "ht4mAQHgwcfi"
      },
      "execution_count": null,
      "outputs": []
    },
    {
      "cell_type": "markdown",
      "source": [
        "# GitHub and Sources\n",
        "\n",
        "View in Github: ***https://github.com/azminewasi/DynamicTaskAssignmentProblemOM***\n"
      ],
      "metadata": {
        "id": "ijggOJwmwcfi"
      }
    },
    {
      "cell_type": "markdown",
      "source": [
        "## Citation\n",
        "\n",
        "**Bibtex**:\n",
        "```\n",
        "@misc{ wasiDAP2023,\n",
        "title = {Mathematical Formulation and Implementation of Dynamic Task Assignment Problem in 10 Minute School},\n",
        "author = {Azmine Touhsik Wasi and Anisha Ahmed and Mahir Absar Khan and Abdur Rahman and Rahatun Nesa Priti},\n",
        "year = {2023},\n",
        "url = {https://github.com/azminewasi/DynamicTaskAssignmentProblemOM}\n",
        "}\n",
        "```\n",
        "\n",
        "**APA**:\n",
        "```\n",
        "Azmine Touhsik Wasi, Anisha Ahmed, Mahir Absar Khan, Abdur Rahman, & Rahatun Nesa Priti. (2023). Mathematical Formulation and Implementation of Dynamic Task Assignment Problem in 10 Minute School.\n",
        "```\n"
      ],
      "metadata": {
        "id": "LSr1pQEQwcfi"
      }
    }
  ]
}